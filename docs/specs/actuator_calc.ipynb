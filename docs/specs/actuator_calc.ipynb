{
 "cells": [
  {
   "cell_type": "markdown",
   "metadata": {},
   "source": [
    "# Mathjax\n",
    "<script\n",
    "  src=\"https://cdn.mathjax.org/mathjax/latest/MathJax.js?config=TeX-AMS-MML_HTMLorMML\"\n",
    "  type=\"text/javascript\">\n",
    "</script>\n",
    "\n",
    "\n",
    "<script type=\"text/x-mathjax-config\">\n",
    "  MathJax.Hub.Config({\n",
    "    tex2jax: {\n",
    "      inlineMath: [['$','$'], ['\\\\(','\\\\)']],\n",
    "      processEscapes: true},\n",
    "      jax: [\"input/TeX\",\"input/MathML\",\"input/AsciiMath\",\"output/CommonHTML\"],\n",
    "      extensions: [\"tex2jax.js\",\"mml2jax.js\",\"asciimath2jax.js\",\"MathMenu.js\",\"MathZoom.js\",\"AssistiveMML.js\", \"[Contrib]/a11y/accessibility-menu.js\"],\n",
    "      TeX: {\n",
    "      extensions: [\"AMSmath.js\",\"AMSsymbols.js\",\"noErrors.js\",\"noUndefined.js\"],\n",
    "      equationNumbers: {\n",
    "      autoNumber: \"AMS\"\n",
    "      }\n",
    "    }\n",
    "  });\n",
    "</script>\n",
    "\n",
    "\n",
    "**Mathjax config Source**:\n",
    "[fabriziomusacchio](https://www.fabriziomusacchio.com/blog/2021-08-10-How_to_use_LaTeX_in_Markdown/)"
   ]
  },
  {
   "cell_type": "markdown",
   "metadata": {},
   "source": [
    "\n",
    "\n",
    "\n",
    "\n",
    "### Power Conversion (PC) – Actuators\n",
    "\n",
    "| **Metric**                               | **Unit**      | **Description**                                                                   |\n",
    "|------------------------------------------|---------------|-----------------------------------------------------------------------------------|\n",
    "| Conversion Efficiency (η_PC)             | %| Ratio of mechanical output energy to electrical input energy.                     |\n",
    "| Actuation Force                          | N   | Mechanical force produced by the actuator.                                        |\n",
    "| Displacement / Stroke                    | µm       | Amount of movement generated per actuation cycle.                                |\n",
    "| Resonant Frequency                       | Hz    | Frequency at which the actuator operates most efficiently.                        |\n",
    "| Response Time / Rise Time                | ms      | Time taken for the actuator to reach full displacement after activation.          |\n",
    "| Voltage-to-Displacement Sensitivity      | µm/V          | Displacement achieved per unit of applied voltage.                               |\n",
    "\n",
    "\n",
    "\n"
   ]
  },
  {
   "cell_type": "markdown",
   "metadata": {},
   "source": [
    "### Imports"
   ]
  },
  {
   "cell_type": "code",
   "execution_count": 1,
   "metadata": {},
   "outputs": [],
   "source": [
    "import sympy\n",
    "from sympy import symbols, Eq, sqrt, pi, latex, solveset, Rational, N, pprint, solve\n",
    "from IPython.display import display, Markdown, Math\n",
    "import sympy.physics.units as u\n",
    "from sympy.physics.units import convert_to\n",
    "from math import log10,floor\n",
    "\n"
   ]
  },
  {
   "cell_type": "code",
   "execution_count": 2,
   "metadata": {},
   "outputs": [],
   "source": [
    "class DualNum:\n",
    "    def __init__(self, val, sym_str):\n",
    "        self.val = val\n",
    "        self.sym = symbols(sym_str)\n",
    "\n",
    "class DualEq:\n",
    "    def __init__(self, name, func):\n",
    "        \"\"\"\n",
    "        :param name: A string name for the equation.\n",
    "        :param func: A lambda that accepts a string (either 'sym' or 'val')\n",
    "                     and returns the desired result.\n",
    "        \"\"\"\n",
    "        #elf.name = name\n",
    "        # Evaluate the expression twice: once for symbolic and once for numeric.\n",
    "        self.sym = Eq(symbols(name), func('sym')) \n",
    "        self.val = Eq(symbols(name), func('val')) \n"
   ]
  },
  {
   "cell_type": "markdown",
   "metadata": {},
   "source": [
    "### Materials"
   ]
  },
  {
   "cell_type": "code",
   "execution_count": 3,
   "metadata": {},
   "outputs": [],
   "source": [
    "\n",
    "# Materials\n",
    "class piezo_crystal:\n",
    "    def __init__(self, name, abbr, E, nu, E_c, rho, d_31, d_33, h, l, w):\n",
    "        \"\"\"\n",
    "        Initialize a piezoelectric crystal material.\n",
    "        :param name: Name of the material\n",
    "        :param abbrev: Abbreviation of the material name\n",
    "        :param E: Young's modulus [N/m^2] or [Pa]\n",
    "        :param J: Intinsic Compliance [m^2/N] or [1/Pa]\n",
    "        :param nu: Poisson's ratio []\n",
    "        :param G: Shear modulus [N/m^2] or [Pa]\n",
    "        :param K: Bulk modulus [N/m^2] or [Pa]\n",
    "        :param E_c: Coercive Field [V/m]\n",
    "        :param nu: Poisson's ratio []\n",
    "        :param rho: Density [kg/m^3]\n",
    "        :param d31: Piezoelectric coefficient d31 [m/V]\n",
    "        :param d33: Piezoelectric coefficient d33 [m/V]\n",
    "        :param h: Height [m]\n",
    "        :param l: Length [m]\n",
    "        :param w: Width [m]\n",
    "        \"\"\"\n",
    "        self.name = name\n",
    "        self.abbr = abbr\n",
    "        self.E = E\n",
    "        self.nu = nu\n",
    "        #self.G = self.E/(2*(1+self.nu))\n",
    "        #self.K = self.E/(3*(1-2*self.nu))\n",
    "        self.E_c = E_c \n",
    "        self.rho = rho\n",
    "        self.d_31 = d_31\n",
    "        self.d_33 = d_33\n",
    "        self.h = h\n",
    "        self.l = l\n",
    "        self.w = w\n",
    "\n",
    "\n",
    "    \n",
    "class elastic_layer:\n",
    "    def __init__(self, name, abbr, E, nu, rho, h, l, w):\n",
    "        \"\"\"\n",
    "        Initialize an elastic layer material.\n",
    "        :param name: Name of the material\n",
    "        :param abbrev: Abbreviation of the material name\n",
    "        :param E: Young's modulus [N/m^2] or [Pa]\n",
    "        :param s: elastic Compliance [m^2/N] or [1/Pa]\n",
    "        :param nu: Poisson's ratio []\n",
    "        :param rho: Density [kg/m^3]\n",
    "        :param h: Height [m]\n",
    "        :param l: Length [m]\n",
    "        :param w: Width [m]\n",
    "        \"\"\"\n",
    "        self.name = name\n",
    "        self.abbr = abbr\n",
    "        self.E = E\n",
    "        self.nu = nu\n",
    "        self.rho = rho\n",
    "        self.h = h\n",
    "        self.l = l\n",
    "        self.w = w\n"
   ]
  },
  {
   "cell_type": "markdown",
   "metadata": {},
   "source": [
    "### Forces on Micro-Robot\n",
    "\n",
    "Current Design Forces permanent on Robot are:\n",
    "- Sliding Friction $ \\mathbf{F_{\\text{Fric}}}$\n",
    "- Viscous Drag $\\mathbf{F_{\\text{Drag}}}$\n",
    "\n",
    "The Robot could also be affected by short living, but strong forces like:\n",
    "- External Flow (e.g. Blood vessels) $\\mathbf{F_{\\text{Drag}}^E}$\n",
    "- Various External Forces by living Microorganism (e.g. Bacteria) $\\mathbf{F^{\\text{Bac}}_{\\Sigma}}$\n",
    "- Strong External Sliding Friction (e.g. Human scratching its face) $ \\mathbf{F_{\\text{Fric}}^E}$\n",
    "\n",
    "For the Szenario we create for TinyTapeout10 Robot we assume a well controlled Enviroment, like for example you would find in cell sorting tasks inside a enclosed volume. In this szenario external Forces can be neglected, which makes the design parameters for the robot significantly easier, especially strong flow in small blood vessels or human interaction will create significant design challenges in the future."
   ]
  },
  {
   "cell_type": "code",
   "execution_count": 4,
   "metadata": {},
   "outputs": [],
   "source": [
    "class interface_ss:\n",
    "    def __init__(self):\n",
    "        pass\n",
    "class interface_sf:\n",
    "    def __init__(self):\n",
    "        pass"
   ]
  },
  {
   "cell_type": "code",
   "execution_count": 5,
   "metadata": {},
   "outputs": [],
   "source": [
    "# Create objects for PZT_5A and steel\n",
    "# Promising Materials to investigate\n",
    "# k33 ≥ 0.90 && d33 ∼1200, pC/N \n",
    "#   [PZN-PT] Lead zinc niobate (PZN) + Lead Titanate (PT)   https://ieeexplore.ieee.org/stamp/stamp.jsp?tp=&arnumber=4258824\n",
    "#   [PMN-PT] Lead Magnesium Niobate (PMN) + Lead Titanate (PT)  https://ieeexplore.ieee.org/stamp/stamp.jsp?tp=&arnumber=4258824\n",
    "\n",
    "\n",
    "p = piezo_crystal(\n",
    "    name='PZT5A',\n",
    "    abbr='Piezo',\n",
    "    E=63 * 10e6 * u.newton / (u.meter**2),\n",
    "    E_c= 12 * ((1e3 * u.volt) / (1e-2 * u.meter)),\n",
    "    nu=0.31,\n",
    "    rho=7750 * (u.kg / (u.meter**3)),\n",
    "    d_31=-175 * ((1e-12 * u.meter )/ u.volt),\n",
    "    d_33=400 * (1e-12 * u.meter / u.volt),\n",
    "    h=10 *(1e-6 * u.meter),\n",
    "    l=40 * (1e-6 * u.meter),\n",
    "    w=100 *(1e-6 * u.meter),\n",
    ")\n",
    "\n",
    "s = elastic_layer(\n",
    "    name='AISI304',\n",
    "    abbr='Steel',\n",
    "    E=193* 10e6 *u.newton / (u.meter**2),\n",
    "    nu=0.3,\n",
    "    rho=7872 * (u.kg / (u.meter**3)),\n",
    "    h=10 *(1e-6* u.meter),\n",
    "    l=40 * (1e-6* u.meter),\n",
    "    w=100 *(1e-6* u.meter),\n",
    ")"
   ]
  },
  {
   "cell_type": "code",
   "execution_count": 6,
   "metadata": {},
   "outputs": [
    {
     "data": {
      "text/latex": [
       "$\\displaystyle 12.0 \\text{V}$"
      ],
      "text/plain": [
       "12.0*volt"
      ]
     },
     "execution_count": 6,
     "metadata": {},
     "output_type": "execute_result"
    }
   ],
   "source": [
    "\n",
    "# Verifying correct calculation of units\n",
    "V_max = p.E_c * p.h\n",
    "V_max.n(3)"
   ]
  },
  {
   "cell_type": "markdown",
   "metadata": {},
   "source": [
    "### Basic piezoelectric Actuation equations (latex)\n",
    "\n",
    "\n",
    "<p align=\"center\">\n",
    "  <img src=\"images/piezo_basic_sitti.png\" style=\"width: 70%; height: auto;\">\n",
    "</p>\n",
    "Source: 978-0-262-03643-6 Page 100 \n",
    "\n",
    "https://archive.org/details/mobilemicrorobot0000sitt/page/100/\n",
    "\n",
    "\n",
    "$\n",
    "\\begin{align}\n",
    "    \\delta &= d_{33}V \\\\\n",
    "    F_b &= lw \\cdot E \\cdot \\delta \\\\\n",
    "    K_m &= \\frac{F_b}{\\delta} = \\frac{lw \\cdot E}{h} \\\\\n",
    "    f_r &= \\frac{N_3^D}{h}\n",
    "\\end{align}\n",
    "$\n",
    "\n"
   ]
  },
  {
   "cell_type": "code",
   "execution_count": 7,
   "metadata": {},
   "outputs": [
    {
     "data": {
      "text/markdown": [
       "Axial Mode"
      ],
      "text/plain": [
       "<IPython.core.display.Markdown object>"
      ]
     },
     "metadata": {},
     "output_type": "display_data"
    },
    {
     "data": {
      "text/latex": [
       "$\\displaystyle \\delta_{33} = V d_{33}$"
      ],
      "text/plain": [
       "<IPython.core.display.Math object>"
      ]
     },
     "metadata": {},
     "output_type": "display_data"
    },
    {
     "data": {
      "text/latex": [
       "$\\displaystyle F_{b} = \\frac{E_{33} V d_{33} l w}{h}$"
      ],
      "text/plain": [
       "<IPython.core.display.Math object>"
      ]
     },
     "metadata": {},
     "output_type": "display_data"
    },
    {
     "data": {
      "text/latex": [
       "$\\displaystyle K_{m} = \\frac{E_{33} l w}{h}$"
      ],
      "text/plain": [
       "<IPython.core.display.Math object>"
      ]
     },
     "metadata": {},
     "output_type": "display_data"
    },
    {
     "data": {
      "text/latex": [
       "$\\displaystyle f_{r} = \\frac{N_{3}}{h}$"
      ],
      "text/plain": [
       "<IPython.core.display.Math object>"
      ]
     },
     "metadata": {},
     "output_type": "display_data"
    },
    {
     "data": {
      "text/markdown": [
       "Transversal Mode"
      ],
      "text/plain": [
       "<IPython.core.display.Markdown object>"
      ]
     },
     "metadata": {},
     "output_type": "display_data"
    },
    {
     "data": {
      "text/latex": [
       "$\\displaystyle \\delta_{31} = - \\frac{V d_{31} w}{h}$"
      ],
      "text/plain": [
       "<IPython.core.display.Math object>"
      ]
     },
     "metadata": {},
     "output_type": "display_data"
    },
    {
     "data": {
      "text/latex": [
       "$\\displaystyle F_{b} = - E_{11} V d_{31} l$"
      ],
      "text/plain": [
       "<IPython.core.display.Math object>"
      ]
     },
     "metadata": {},
     "output_type": "display_data"
    },
    {
     "data": {
      "text/latex": [
       "$\\displaystyle f_{r} = \\frac{N_{1}}{w}$"
      ],
      "text/plain": [
       "<IPython.core.display.Math object>"
      ]
     },
     "metadata": {},
     "output_type": "display_data"
    },
    {
     "data": {
      "text/latex": [
       "$\\displaystyle K_{m} = \\frac{E_{11} h l}{w}$"
      ],
      "text/plain": [
       "<IPython.core.display.Math object>"
      ]
     },
     "metadata": {},
     "output_type": "display_data"
    }
   ],
   "source": [
    "\n",
    "# Define symbols\n",
    "V = symbols('V')\n",
    "d_33, d_31 = symbols('d_{33} d_{31}')\n",
    "delta_31, delta_33 = symbols('delta_31 delta_33')\n",
    "l, w, h = symbols('l w h')\n",
    "E_33, E_11 = symbols('E_{33} E_{11}')\n",
    "N_3, N_1 = symbols('N_3 N_1')\n",
    "K_m = symbols('K_m')\n",
    "F_b = symbols('F_b')\n",
    "f_r = symbols('f_r')\n",
    "\n",
    "\n",
    "# Define equations\n",
    "eq_ax_displacement = Eq(delta_33, d_33 * V)\n",
    "eq_ax_Fb = Eq(F_b, (l * w / h) * E_33 * d_33 * V)\n",
    "eq_ax_coupling = Eq(K_m, (l * w / h) * E_33)\n",
    "eq_ax_resonance = Eq(f_r, N_3 / h)\n",
    "\n",
    "\n",
    "eq_tran_displacement = Eq(delta_31, - (w / h) * d_31 * V)\n",
    "eq_tran_Fb = Eq(F_b, - l * E_11 * d_31 * V) # Blocking force. Maximum Force the Actuator can exert when its displacement is blocked. Aka the Force that can overcome fluid drag and friction\n",
    "eq_tran_coupling = Eq(K_m, (h * l / w) * E_11) # Electromechanical coupling factor. Higher is better. Max value is 1\n",
    "eq_tran_resonance = Eq(f_r, N_1 / w)\n",
    "\n",
    "# Display equations\n",
    "display(Markdown('Axial Mode'))\n",
    "display(Math(latex(eq_ax_displacement)))\n",
    "display(Math(latex(eq_ax_Fb)))\n",
    "display(Math(latex(eq_ax_coupling)))\n",
    "display(Math(latex(eq_ax_resonance)))\n",
    "\n",
    "display(Markdown('Transversal Mode'))\n",
    "display(Math(latex(eq_tran_displacement)))\n",
    "display(Math(latex(eq_tran_Fb)))\n",
    "display(Math(latex(eq_tran_resonance)))\n",
    "display(Math(latex(eq_tran_coupling)))\n",
    "\n",
    "\n",
    "\n",
    "\n",
    "\n"
   ]
  },
  {
   "cell_type": "code",
   "execution_count": 8,
   "metadata": {},
   "outputs": [
    {
     "data": {
      "text/markdown": [
       "Display eq"
      ],
      "text/plain": [
       "<IPython.core.display.Markdown object>"
      ]
     },
     "metadata": {},
     "output_type": "display_data"
    },
    {
     "data": {
      "text/latex": [
       "$\\displaystyle \\delta_{33} = V d_{33}$"
      ],
      "text/plain": [
       "Eq(delta_33, V*d_{33})"
      ]
     },
     "metadata": {},
     "output_type": "display_data"
    },
    {
     "data": {
      "text/plain": [
       "[V*d_{33}]"
      ]
     },
     "metadata": {},
     "output_type": "display_data"
    },
    {
     "data": {
      "text/latex": [
       "$\\displaystyle \\delta_{33} = V d_{33}$"
      ],
      "text/plain": [
       "<IPython.core.display.Math object>"
      ]
     },
     "metadata": {},
     "output_type": "display_data"
    }
   ],
   "source": [
    "display(Markdown('Display eq'))\n",
    "display(eq_ax_displacement)\n",
    "eq_ax_displacement = Eq(delta_33, d_33 * V)\n",
    "d_33 = p.d_33\n",
    "V = 1.03* u.volt\n",
    "display(solve(eq_ax_displacement, delta_33))\n",
    "\n",
    "\n",
    "\n",
    "display(Math(latex(eq_ax_displacement)))"
   ]
  },
  {
   "attachments": {
    "image.png": {
     "image/png": "[encoded data removed]"
    }
   },
   "cell_type": "markdown",
   "metadata": {},
   "source": [
    "### Basic piezoelectric Actuation equations (latex)\n",
    "\n",
    "\n",
    "<p align=\"center\">\n",
    "  <img src=\"images/piezo_cantilever_sitti_2.png\" style=\"width: 70%; height: auto;\">\n",
    "</p>\n",
    "\n",
    "Source: 10.1109/ROBOT.2001.933216 \n",
    "<br>\n",
    "https://ieeexplore.ieee.org/document/933216\n",
    "<br>\n",
    "<br>\n",
    "<br>\n",
    "<br>\n",
    "![image.png](attachment:image.png)\n",
    "\n",
    "\n",
    "$\n",
    "\\begin{align}\n",
    "\\end{align}\n",
    "$\n"
   ]
  },
  {
   "cell_type": "code",
   "execution_count": 9,
   "metadata": {},
   "outputs": [
    {
     "ename": "NameError",
     "evalue": "name 'R_E' is not defined",
     "output_type": "error",
     "traceback": [
      "\u001b[0;31m---------------------------------------------------------------------------\u001b[0m",
      "\u001b[0;31mNameError\u001b[0m                                 Traceback (most recent call last)",
      "Cell \u001b[0;32mIn[9], line 1\u001b[0m\n\u001b[0;32m----> 1\u001b[0m eq_R_E \u001b[38;5;241m=\u001b[39m Eq(\u001b[43mR_E\u001b[49m,R_E\u001b[38;5;241m.\u001b[39mval)\n",
      "\u001b[0;31mNameError\u001b[0m: name 'R_E' is not defined"
     ]
    }
   ],
   "source": [
    "eq_R_E = Eq(R_E,R_E.val)\n",
    "\n",
    "\n",
    "\n",
    "\n"
   ]
  },
  {
   "cell_type": "code",
   "execution_count": 184,
   "metadata": {},
   "outputs": [
    {
     "data": {
      "text/latex": [
       "$\\displaystyle R_{h} = \\frac{h_{Steel}}{h_{Piezo}} = R_{h} = 1.0$"
      ],
      "text/plain": [
       "Eq(Eq(R_h, h_Steel/h_Piezo), Eq(R_h, 1.0))"
      ]
     },
     "metadata": {},
     "output_type": "display_data"
    },
    {
     "name": "stdout",
     "output_type": "stream",
     "text": [
      "     h_Steel\n",
      "Rₕ = ───────\n",
      "     h_Piezo\n",
      "Rₕ = 1.0\n",
      "1.0000\n"
     ]
    }
   ],
   "source": [
    "R_h = DualEq('R_h', lambda attr: getattr(s.h, attr) / getattr(p.h, attr))\n",
    "\n",
    "display(Eq(R_h.sym,R_h.val.n(5))) # nice way to display\n",
    "pprint(R_h.sym) # fast and ugly\n",
    "pprint(R_h.val) # fast and ugly\n",
    "\n",
    "out = list(solveset(R_h.val))[0].n(5) # actual how to get the actual integer\n",
    "print(out)\n",
    "\n",
    "\n",
    "\n"
   ]
  },
  {
   "cell_type": "code",
   "execution_count": 185,
   "metadata": {},
   "outputs": [
    {
     "data": {
      "text/latex": [
       "$\\displaystyle R_{\\rho} = \\frac{\\rho_{Steel}}{\\rho_{Piezo}} = R_{\\rho} = 1.0157$"
      ],
      "text/plain": [
       "Eq(Eq(R_rho, rho_Steel/rho_Piezo), Eq(R_rho, 1.0157))"
      ]
     },
     "metadata": {},
     "output_type": "display_data"
    },
    {
     "name": "stdout",
     "output_type": "stream",
     "text": [
      "1.0157\n"
     ]
    }
   ],
   "source": [
    "R_rho = DualEq('R_rho',lambda attr: getattr(s.rho, attr) / getattr(p.rho, attr))\n",
    "\n",
    "display(Eq(R_rho.sym,R_rho.val.n(5)))\n",
    "\n",
    "out = list(solveset(R_rho.val))[0].n(5)\n",
    "print(out)"
   ]
  },
  {
   "cell_type": "code",
   "execution_count": 186,
   "metadata": {},
   "outputs": [
    {
     "ename": "TypeError",
     "evalue": "unsupported operand type(s) for *: 'DualEq' and 'int'",
     "output_type": "error",
     "traceback": [
      "\u001b[0;31m---------------------------------------------------------------------------\u001b[0m",
      "\u001b[0;31mTypeError\u001b[0m                                 Traceback (most recent call last)",
      "Cell \u001b[0;32mIn[186], line 1\u001b[0m\n\u001b[0;32m----> 1\u001b[0m A \u001b[38;5;241m=\u001b[39m Eq(\u001b[38;5;124m'\u001b[39m\u001b[38;5;124mA\u001b[39m\u001b[38;5;124m'\u001b[39m,\u001b[43mR_E\u001b[49m\u001b[43m \u001b[49m\u001b[38;5;241;43m*\u001b[39;49m\u001b[43m \u001b[49m\u001b[38;5;241;43m2\u001b[39;49m)\n",
      "\u001b[0;31mTypeError\u001b[0m: unsupported operand type(s) for *: 'DualEq' and 'int'"
     ]
    }
   ],
   "source": [
    "A = Eq('A',R_E * 2)"
   ]
  }
 ],
 "metadata": {
  "kernelspec": {
   "display_name": "vtt10",
   "language": "python",
   "name": "python3"
  },
  "language_info": {
   "codemirror_mode": {
    "name": "ipython",
    "version": 3
   },
   "file_extension": ".py",
   "mimetype": "text/x-python",
   "name": "python",
   "nbconvert_exporter": "python",
   "pygments_lexer": "ipython3",
   "version": "3.10.12"
  }
 },
 "nbformat": 4,
 "nbformat_minor": 2
}
