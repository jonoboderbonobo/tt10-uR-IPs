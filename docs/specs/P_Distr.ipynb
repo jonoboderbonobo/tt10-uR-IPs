{
 "cells": [
  {
   "cell_type": "markdown",
   "metadata": {},
   "source": [
    "## Requirements on Driver\n",
    "\n",
    "- **Voltage Level (Displacement):** As high as possible for maximum displacement. At this scale, it is limited by the breakdown voltage of the piezo actuator rather than MOSFETs.\n",
    "- **Current Level (Speed):** Low enough resistance, i.e., high enough current for the respective oscillation frequency of the actuator. The limiting factors could be:\n",
    "    - Heat dissipation of MOSFETs inside the driver circuit\n",
    "    - Heat dissipation of the piezo crystal\n",
    "    - Frequency where actuation is efficient due to gait, friction, drag, and mechanical quality factor \n",
    "    "
   ]
  }
 ],
 "metadata": {
  "language_info": {
   "name": "python"
  }
 },
 "nbformat": 4,
 "nbformat_minor": 2
}
