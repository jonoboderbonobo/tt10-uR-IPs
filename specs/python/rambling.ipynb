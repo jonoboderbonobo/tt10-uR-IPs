{
 "cells": [
  {
   "cell_type": "markdown",
   "metadata": {},
   "source": [
    "# Thoughts on Enviroment Independance:\n",
    "\n",
    "Best case Szenario a robot can Harvest any change in Energy (Power) in its Enviroment. Radiant Sources (e.g. sun, RF), Thermal Source and Mechanical Sources (e.g. Vibration) and having the capability of adapting to all Amplitudes in the known Universe from Supernovae to single electron spin. This is obviously far away from anything we can do, but just let this be a reminder what might be. For Robots to be useful its enough to be able to do a specific task in a given Enviroment. Beeing more versetail is definetly a Bonus, but for all important tasks in the near future ristricing to one or two ENergy Harvesing techniques or Energy Storages is sufficient. Inside the Human Body its possible to Harvest mechanical Vibration (Human movement or simply Hear beat) and radiant power like external applied RF (e.g. Wifi Router). Thermal Gradients are more difficult inside the human body, because of its temperature regulation and microrobots beeing to small to reach over different temperature levels and therefore not able to harvest any Thermal Gradients. Altough I have not made the calculations regarding the thermal gradients inside the Human body, because it felt so inefficient. So I might be wrong."
   ]
  }
 ],
 "metadata": {
  "language_info": {
   "name": "python"
  }
 },
 "nbformat": 4,
 "nbformat_minor": 2
}
