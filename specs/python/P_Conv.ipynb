{
 "cells": [
  {
   "cell_type": "markdown",
   "metadata": {},
   "source": [
    "# Mathjax\n",
    "<script\n",
    "  src=\"https://cdn.mathjax.org/mathjax/latest/MathJax.js?config=TeX-AMS-MML_HTMLorMML\"\n",
    "  type=\"text/javascript\">\n",
    "</script>\n",
    "\n",
    "\n",
    "<script type=\"text/x-mathjax-config\">\n",
    "  MathJax.Hub.Config({\n",
    "    tex2jax: {\n",
    "      inlineMath: [['$','$'], ['\\\\(','\\\\)']],\n",
    "      processEscapes: true},\n",
    "      jax: [\"input/TeX\",\"input/MathML\",\"input/AsciiMath\",\"output/CommonHTML\"],\n",
    "      extensions: [\"tex2jax.js\",\"mml2jax.js\",\"asciimath2jax.js\",\"MathMenu.js\",\"MathZoom.js\",\"AssistiveMML.js\", \"[Contrib]/a11y/accessibility-menu.js\"],\n",
    "      TeX: {\n",
    "      extensions: [\"AMSmath.js\",\"AMSsymbols.js\",\"noErrors.js\",\"noUndefined.js\"],\n",
    "      equationNumbers: {\n",
    "      autoNumber: \"AMS\"\n",
    "      }\n",
    "    }\n",
    "  });\n",
    "</script>\n",
    "\n",
    "\n",
    "**Mathjax config Source**:\n",
    "[fabriziomusacchio](https://www.fabriziomusacchio.com/blog/2021-08-10-How_to_use_LaTeX_in_Markdown/)"
   ]
  },
  {
   "cell_type": "markdown",
   "metadata": {},
   "source": [
    "\n",
    "\n",
    "\n",
    "\n",
    "### Power Conversion (PC) – Actuators\n",
    "\n",
    "| **Metric**                               | **Unit**      | **Description**                                                                   |\n",
    "|------------------------------------------|---------------|-----------------------------------------------------------------------------------|\n",
    "| Conversion Efficiency (η_PC)             | %| Ratio of mechanical output energy to electrical input energy.                     |\n",
    "| Actuation Force                          | N   | Mechanical force produced by the actuator.                                        |\n",
    "| Displacement / Stroke                    | µm       | Amount of movement generated per actuation cycle.                                |\n",
    "| Resonant Frequency                       | Hz    | Frequency at which the actuator operates most efficiently.                        |\n",
    "| Response Time / Rise Time                | ms      | Time taken for the actuator to reach full displacement after activation.          |\n",
    "| Voltage-to-Displacement Sensitivity      | µm/V          | Displacement achieved per unit of applied voltage.                               |\n",
    "\n",
    "\n",
    "\n"
   ]
  },
  {
   "cell_type": "markdown",
   "metadata": {},
   "source": [
    "### Imports"
   ]
  },
  {
   "cell_type": "code",
   "execution_count": 562,
   "metadata": {},
   "outputs": [],
   "source": [
    "import sympy\n",
    "from sympy import symbols, Eq, sqrt, pi, latex, solveset, Rational, N\n",
    "from IPython.display import display, Markdown, Math\n",
    "import sympy.physics.units as u\n",
    "from sympy.physics.units import milli, micro, centi, giga, mega, kilo, nano, pico\n",
    "from sympy.physics.units import convert_to\n",
    "from math import log10,floor\n",
    "\n"
   ]
  },
  {
   "cell_type": "code",
   "execution_count": 563,
   "metadata": {},
   "outputs": [],
   "source": [
    "class num_w_sym:\n",
    "    def __init__(self, val, sym_str):\n",
    "        self.val = val\n",
    "        self.sym = symbols(sym_str)\n",
    "\n",
    "class eq_as_num_sym:\n",
    "    def __init__(self, name, func):\n",
    "        \"\"\"\n",
    "        :param name: A string name for the equation.\n",
    "        :param func: A lambda that accepts a string (either 'sym' or 'val')\n",
    "                     and returns the desired result.\n",
    "        \"\"\"\n",
    "        self.name = name\n",
    "        # Evaluate the expression twice: once for symbolic and once for numeric.\n",
    "        self.sym = Eq(symbols(self.name), func('sym')) \n",
    "        self.val = Eq(symbols(self.name), func('val')) \n"
   ]
  },
  {
   "cell_type": "markdown",
   "metadata": {},
   "source": [
    "### Materials"
   ]
  },
  {
   "cell_type": "code",
   "execution_count": 564,
   "metadata": {},
   "outputs": [],
   "source": [
    "\n",
    "# Materials\n",
    "class piezo_crystal:\n",
    "    def __init__(self, name, E, nu, E_c, rho, d_31, d_33, h, l, w):\n",
    "        \"\"\"\n",
    "        Initialize a piezoelectric crystal material.\n",
    "        :param name: Name of the material\n",
    "        :param abbrev: Abbreviation of the material name\n",
    "        :param E: Young's modulus [N/m^2] or [Pa]\n",
    "        :param J: Intinsic Compliance [m^2/N] or [1/Pa]\n",
    "        :param nu: Poisson's ratio []\n",
    "        :param G: Shear modulus [N/m^2] or [Pa]\n",
    "        :param K: Bulk modulus [N/m^2] or [Pa]\n",
    "        :param E_c: Coercive Field [V/m]\n",
    "        :param nu: Poisson's ratio []\n",
    "        :param rho: Density [kg/m^3]\n",
    "        :param d31: Piezoelectric coefficient d31 [m/V]\n",
    "        :param d33: Piezoelectric coefficient d33 [m/V]\n",
    "        :param h: Height [m]\n",
    "        :param l: Length [m]\n",
    "        :param w: Width [m]\n",
    "        \"\"\"\n",
    "        self.name = name\n",
    "        self.E = num_w_sym(E, f'E^{self.name}')\n",
    "        self.nu = num_w_sym(nu, f'nu^{self.name}') \n",
    "        #self.G = self.E/(2*(1+self.nu))\n",
    "        #self.K = self.E/(3*(1-2*self.nu))\n",
    "        self.E_c = self.E_c = num_w_sym(E_c, f'E^c_{self.name}')  \n",
    "        self.rho = self.tho = num_w_sym(rho, f'rho_{self.name}')  \n",
    "        self.d_31 = self.d_31 = num_w_sym(d_31, f'd^31_{self.name}')  \n",
    "        self.d_33 = self.d_33 = num_w_sym(d_33, f'd^33_{self.name}')  \n",
    "        self.h = self.h = num_w_sym(h, f'h_{self.name}') \n",
    "        self.l = self.l = num_w_sym(l, f'l_{self.name}') \n",
    "        self.w = self.w = num_w_sym(w, f'w_{self.name}') \n",
    "\n",
    "\n",
    "    \n",
    "class elastic_layer:\n",
    "    def __init__(self, name, E, nu, rho, h, l, w):\n",
    "        \"\"\"\n",
    "        Initialize an elastic layer material.\n",
    "        :param name: Name of the material\n",
    "        :param abbrev: Abbreviation of the material name\n",
    "        :param E: Young's modulus [N/m^2] or [Pa]\n",
    "        :param s: elastic Compliance [m^2/N] or [1/Pa]\n",
    "        :param nu: Poisson's ratio []\n",
    "        :param rho: Density [kg/m^3]\n",
    "        :param h: Height [m]\n",
    "        :param l: Length [m]\n",
    "        :param w: Width [m]\n",
    "        \"\"\"\n",
    "        self.name = name\n",
    "        self.E = num_w_sym(E, f'E_{self.name}')\n",
    "        self.nu = num_w_sym(nu, f'nu_{self.name}') \n",
    "        self.rho = num_w_sym(rho, f'rho_{self.name}') \n",
    "        self.h = num_w_sym(h, f'h_{self.name}') \n",
    "        self.l = num_w_sym(l, f'l_{self.name}') \n",
    "        self.w = num_w_sym(w, f'w_{self.name}') \n"
   ]
  },
  {
   "cell_type": "code",
   "execution_count": 565,
   "metadata": {},
   "outputs": [],
   "source": [
    "# Create objects for PZT_5A and steel\n",
    "p = piezo_crystal(\n",
    "    name='PZT5A',\n",
    "    E=63 * 10e6 * u.newton / (u.meter**2),\n",
    "    E_c= 12 * ((1e3 * u.volt) / (1e-2 * u.meter)),\n",
    "    nu=0.31,\n",
    "    rho=7750 * (u.kg / (u.meter**3)),\n",
    "    d_31=-175 * ((1e-12 * u.meter )/ u.volt),\n",
    "    d_33=400 * (1e-12 * u.meter / u.volt),\n",
    "    h=10 *(1e-6 * u.meter),\n",
    "    l=40 * (1e-6 * u.meter),\n",
    "    w=100 *(1e-6 * u.meter),\n",
    ")\n",
    "\n",
    "s = elastic_layer(\n",
    "    name='Steel',\n",
    "    E=193* 10e6 *u.newton / (u.meter**2),\n",
    "    nu=0.3,\n",
    "    rho=7872 * (u.kg / (u.meter**3)),\n",
    "    h=10 *(1e-6* u.meter),\n",
    "    l=40 * (1e-6* u.meter),\n",
    "    w=100 *(1e-6* u.meter),\n",
    ")"
   ]
  },
  {
   "cell_type": "code",
   "execution_count": 566,
   "metadata": {},
   "outputs": [
    {
     "data": {
      "text/latex": [
       "$\\displaystyle 12.0$"
      ],
      "text/plain": [
       "12.0"
      ]
     },
     "execution_count": 566,
     "metadata": {},
     "output_type": "execute_result"
    }
   ],
   "source": [
    "\n",
    "# Verifying correct calculation of units\n",
    "V_max = p.E_c.val * p.h.val / u.volt\n",
    "V_max.n(3)"
   ]
  },
  {
   "cell_type": "markdown",
   "metadata": {},
   "source": [
    "### Basic piezoelectric Actuation equations (latex)\n",
    "\n",
    "\n",
    "<p align=\"center\">\n",
    "  <img src=\"images/piezo_basic_sitti.png\" style=\"width: 70%; height: auto;\">\n",
    "</p>\n",
    "Source: 978-0-262-03643-6 Page 100 \n",
    "\n",
    "https://archive.org/details/mobilemicrorobot0000sitt/page/100/\n",
    "\n",
    "\n",
    "$\n",
    "\\begin{align}\n",
    "    \\delta &= d_{33}V \\\\\n",
    "    F_b &= lw \\cdot E \\cdot \\delta \\\\\n",
    "    K_m &= \\frac{F_b}{\\delta} = \\frac{lw \\cdot E}{h} \\\\\n",
    "    f_r &= \\frac{N_3^D}{h}\n",
    "\\end{align}\n",
    "$\n",
    "\n"
   ]
  },
  {
   "cell_type": "code",
   "execution_count": 567,
   "metadata": {},
   "outputs": [
    {
     "data": {
      "text/markdown": [
       "Axial Mode"
      ],
      "text/plain": [
       "<IPython.core.display.Markdown object>"
      ]
     },
     "metadata": {},
     "output_type": "display_data"
    },
    {
     "data": {
      "text/latex": [
       "$\\displaystyle \\delta_{33} = V d_{33}$"
      ],
      "text/plain": [
       "<IPython.core.display.Math object>"
      ]
     },
     "metadata": {},
     "output_type": "display_data"
    },
    {
     "data": {
      "text/latex": [
       "$\\displaystyle F_{b} = \\frac{E_{33} V d_{33} l w}{h}$"
      ],
      "text/plain": [
       "<IPython.core.display.Math object>"
      ]
     },
     "metadata": {},
     "output_type": "display_data"
    },
    {
     "data": {
      "text/latex": [
       "$\\displaystyle K_{m} = \\frac{E_{33} l w}{h}$"
      ],
      "text/plain": [
       "<IPython.core.display.Math object>"
      ]
     },
     "metadata": {},
     "output_type": "display_data"
    },
    {
     "data": {
      "text/latex": [
       "$\\displaystyle f_{r} = \\frac{N_{3}}{h}$"
      ],
      "text/plain": [
       "<IPython.core.display.Math object>"
      ]
     },
     "metadata": {},
     "output_type": "display_data"
    },
    {
     "data": {
      "text/markdown": [
       "Transversal Mode"
      ],
      "text/plain": [
       "<IPython.core.display.Markdown object>"
      ]
     },
     "metadata": {},
     "output_type": "display_data"
    },
    {
     "data": {
      "text/latex": [
       "$\\displaystyle \\delta_{31} = - \\frac{V d_{31} w}{h}$"
      ],
      "text/plain": [
       "<IPython.core.display.Math object>"
      ]
     },
     "metadata": {},
     "output_type": "display_data"
    },
    {
     "data": {
      "text/latex": [
       "$\\displaystyle F_{b} = - E_{11} V d_{31} l$"
      ],
      "text/plain": [
       "<IPython.core.display.Math object>"
      ]
     },
     "metadata": {},
     "output_type": "display_data"
    },
    {
     "data": {
      "text/latex": [
       "$\\displaystyle K_{m} = \\frac{E_{11} h l}{w}$"
      ],
      "text/plain": [
       "<IPython.core.display.Math object>"
      ]
     },
     "metadata": {},
     "output_type": "display_data"
    },
    {
     "data": {
      "text/latex": [
       "$\\displaystyle f_{r} = \\frac{N_{1}}{w}$"
      ],
      "text/plain": [
       "<IPython.core.display.Math object>"
      ]
     },
     "metadata": {},
     "output_type": "display_data"
    }
   ],
   "source": [
    "\n",
    "# Define symbols\n",
    "V = symbols('V')\n",
    "d_33, d_31 = symbols('d_{33} d_{31}')\n",
    "delta_31, delta_33 = symbols('delta_31 delta_33')\n",
    "l, w, h = symbols('l w h')\n",
    "E_33, E_11 = symbols('E_{33} E_{11}')\n",
    "N_3, N_1 = symbols('N_3 N_1')\n",
    "K_m = symbols('K_m')\n",
    "F_b = symbols('F_b')\n",
    "f_r = symbols('f_r')\n",
    "\n",
    "\n",
    "# Define equations\n",
    "ax_displacement = Eq(delta_33, d_33 * V)\n",
    "ax_Fb = Eq(F_b, (l * w / h) * E_33 * d_33 * V)\n",
    "ax_coupling = Eq(K_m, (l * w / h) * E_33)\n",
    "ax_resonance = Eq(f_r, N_3 / h)\n",
    "\n",
    "\n",
    "tran_displacement = Eq(delta_31, - (w / h) * d_31 * V)\n",
    "tran_Fb = Eq(F_b, - l * E_11 * d_31 * V) # Blocking force. Maximum Force the Actuator can exert when its displacement is blocked. Aka the Force that can overcome fluid drag and friction\n",
    "tran_coupling = Eq(K_m, (h * l / w) * E_11) # Electromechanical coupling factor. Higher is better. Max value is 1\n",
    "tran_resonance = Eq(f_r, N_1 / w)\n",
    "\n",
    "# Display equations\n",
    "display(Markdown('Axial Mode'))\n",
    "for eq in [ax_displacement, ax_Fb, ax_coupling, ax_resonance]:\n",
    "    display(Math(latex(eq)))\n",
    "display(Markdown('Transversal Mode'))\n",
    "for eq in [tran_displacement, tran_Fb, tran_coupling, tran_resonance]:\n",
    "    display(Math(latex(eq)))"
   ]
  },
  {
   "cell_type": "markdown",
   "metadata": {},
   "source": [
    "### Basic piezoelectric Actuation equations (latex)\n",
    "\n",
    "\n",
    "<p align=\"center\">\n",
    "  <img src=\"images/piezo_cantilever_sitti_2.png\" style=\"width: 70%; height: auto;\">\n",
    "</p>\n",
    "\n",
    "Source: 10.1109/ROBOT.2001.933216 \n",
    "\n",
    "https://ieeexplore.ieee.org/document/933216\n",
    "\n",
    "\n",
    "$\n",
    "\\begin{align}\n",
    "\\end{align}\n",
    "$\n"
   ]
  },
  {
   "cell_type": "code",
   "execution_count": 579,
   "metadata": {},
   "outputs": [
    {
     "data": {
      "text/latex": [
       "$\\displaystyle R_{E} = \\frac{E_{Steel}}{E^{PZT5A}} = R_{E} = 3.06$"
      ],
      "text/plain": [
       "Eq(Eq(R_E, E_Steel/E^PZT5A), Eq(R_E, 3.06))"
      ]
     },
     "metadata": {},
     "output_type": "display_data"
    },
    {
     "data": {
      "text/latex": [
       "$\\displaystyle R_{E} = \\frac{E_{Steel}}{E^{PZT5A}}$"
      ],
      "text/plain": [
       "Eq(R_E, E_Steel/E^PZT5A)"
      ]
     },
     "metadata": {},
     "output_type": "display_data"
    },
    {
     "data": {
      "text/latex": [
       "$\\displaystyle R_{E} = 3.06$"
      ],
      "text/plain": [
       "Eq(R_E, 3.06)"
      ]
     },
     "metadata": {},
     "output_type": "display_data"
    },
    {
     "name": "stdout",
     "output_type": "stream",
     "text": [
      "{3.06349206349206}\n",
      "3.0635\n"
     ]
    }
   ],
   "source": [
    "R_E = eq_as_num_sym('R_E', lambda attr: getattr(s.E, attr) / getattr(p.E, attr))\n",
    "\n",
    "\n",
    "\n",
    "display(Eq(R_E.sym,R_E.val.n(3)))\n",
    "\n",
    "display(R_E.sym)\n",
    "display(R_E.val.n(3))\n",
    "\n",
    "out = solveset(R_E.val)\n",
    "print(out)\n",
    "\n",
    "out = list(solveset( R_E.val))[0].n(5)\n",
    "print(out)\n",
    "\n",
    "\n"
   ]
  },
  {
   "cell_type": "code",
   "execution_count": 581,
   "metadata": {},
   "outputs": [
    {
     "data": {
      "text/latex": [
       "$\\displaystyle R_{h} = \\frac{h_{Steel}}{h_{PZT5A}} = R_{h} = 1.0$"
      ],
      "text/plain": [
       "Eq(Eq(R_h, h_Steel/h_PZT5A), Eq(R_h, 1.0))"
      ]
     },
     "metadata": {},
     "output_type": "display_data"
    },
    {
     "name": "stdout",
     "output_type": "stream",
     "text": [
      "1.00\n"
     ]
    }
   ],
   "source": [
    "R_h = eq_as_num_sym('R_h', lambda attr: getattr(s.h, attr) / getattr(p.h, attr))\n",
    "\n",
    "display(Eq(R_h.sym,R_h.val.n(3)))\n",
    "\n",
    "out = list(solveset(R_h.val))[0].n(3)\n",
    "print(out)\n",
    "\n",
    "\n",
    "\n"
   ]
  },
  {
   "cell_type": "code",
   "execution_count": 584,
   "metadata": {},
   "outputs": [
    {
     "data": {
      "text/latex": [
       "$\\displaystyle R_{E} = \\frac{E_{Steel}}{E^{PZT5A}} = R_{E} = 3.06$"
      ],
      "text/plain": [
       "Eq(Eq(R_E, E_Steel/E^PZT5A), Eq(R_E, 3.06))"
      ]
     },
     "metadata": {},
     "output_type": "display_data"
    },
    {
     "name": "stdout",
     "output_type": "stream",
     "text": [
      "3.0635\n"
     ]
    }
   ],
   "source": [
    "R_rho = eq_as_num_sym('R_rho',lambda attr: getattr(s.rho, attr) / getattr(s.rho, attr))\n",
    "\n",
    "display(Eq(R_rho.sym,R_rho.val.n(3)))\n",
    "\n",
    "out = list(solveset( R_rho.val))[0].n(5)\n",
    "print(out)"
   ]
  }
 ],
 "metadata": {
  "kernelspec": {
   "display_name": "vtt10",
   "language": "python",
   "name": "python3"
  },
  "language_info": {
   "codemirror_mode": {
    "name": "ipython",
    "version": 3
   },
   "file_extension": ".py",
   "mimetype": "text/x-python",
   "name": "python",
   "nbconvert_exporter": "python",
   "pygments_lexer": "ipython3",
   "version": "3.10.12"
  }
 },
 "nbformat": 4,
 "nbformat_minor": 2
}
