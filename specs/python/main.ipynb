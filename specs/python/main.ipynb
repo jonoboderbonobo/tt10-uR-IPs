{
 "cells": [
  {
   "cell_type": "markdown",
   "metadata": {},
   "source": [
    "# Specification\n",
    "\n",
    "In This python file the Design Specifications for Chip [tt10-uR-IPs](https://github.com/jonoboderbonobo/tt10-uR-IPs) is investigated. Not much thought has been put into those Specifications, but designing a Chip without a goal in mind seems boring. Therefore some rough estimates will be made. So let's make a Robot!"
   ]
  },
  {
   "cell_type": "markdown",
   "metadata": {},
   "source": [
    "\n",
    "\n",
    "## Design Goals\n",
    "\n",
    "\n",
    "\n",
    "\n",
    "| Design Goal                    | Value                   |\n",
    "|--------------------------------|-------------------------|\n",
    "| Robot size                     | 100 µm * 100 µm         |\n",
    "| Chip size                      | 50 µm * 100 µm          |\n",
    "| Resulting Space for Actuators  | 2 times (25 µm * 100 µm)|\n",
    "| Robot speed                    | > 1 body length /second |\n",
    "| Actuation Method               | Piezoelectric           |\n",
    "| Locomotion Method              | Crawling                |\n",
    "| Robot shape                    | Rectangular             |\n",
    "\n",
    "<br>\n",
    "\n",
    "| **Soft Requirements**    |Value                   |\n",
    "|--------------------------|------------------------|\n",
    "| Robot Coating            | PDMS                   |\n",
    "| Robot Actuators          | PZT_5H                 |\n",
    "| Environment Fluid        | Air                    |\n",
    "| Environment Solid (Ground)| variable (SiO2)       |\n",
    "\n",
    "\n",
    "The Requirements can be split into: \n",
    "Actuation which has effect on Energy Harvesting and Driver Specification\n",
    "Communication speed which has effect on clock frequency\n",
    "Sensor quality. So how many Sensors, what ADC resolution and sampling rate. Effects mostly size of ADCs but also Communication Speed and maybe some buffer memory\n",
    "\n",
    "In this first Iteration I mainly focus on Actuation and minimal Communication capabilities without any Sensors. Therefore no ADCs needed and Communication is mainly used for\n",
    "Position detection and getting commands from outside to change direction or change movement speed.\n",
    "\n",
    "\n"
   ]
  },
  {
   "cell_type": "markdown",
   "metadata": {},
   "source": [
    "### Imports"
   ]
  },
  {
   "cell_type": "code",
   "execution_count": 21,
   "metadata": {},
   "outputs": [],
   "source": [
    "import sympy\n",
    "from sympy import symbols, Eq, sqrt, pi, latex, solveset\n",
    "from IPython.display import display, Markdown, Math\n",
    "import sympy.physics.units as u\n",
    "from sympy.physics.units import milli, micro, centi, giga, mega, kilo, nano, pico\n",
    "from sympy.physics.units import convert_to\n",
    "from sympy import Rational, pi\n",
    "\n",
    "\n",
    "\n",
    "percent = percents = Rational(1, 100)\n",
    "permille = permille = Rational(1, 1000)\n",
    "\n",
    "ten = Rational(10)\n",
    "\n",
    "yotta = ten**24\n",
    "zetta = ten**21\n",
    "exa = ten**18\n",
    "peta = ten**15\n",
    "tera = ten**12\n",
    "giga = ten**9\n",
    "mega = ten**6\n",
    "kilo = ten**3\n",
    "deca = ten**1\n",
    "deci = ten**-1\n",
    "centi = ten**-2\n",
    "milli = ten**-3\n",
    "micro = ten**-6\n",
    "nano = ten**-9\n",
    "pico = ten**-12\n",
    "femto = ten**-15\n",
    "atto = ten**-18\n",
    "zepto = ten**-21\n",
    "yocto = ten**-24\n",
    "\n",
    "rad = radian = radians = 1\n",
    "deg = degree = degrees = pi/180\n",
    "sr = steradian = steradians = 1\n",
    "mil = angular_mil = angular_mils = 2*pi/6400\n"
   ]
  },
  {
   "cell_type": "markdown",
   "metadata": {},
   "source": [
    "### Materials"
   ]
  },
  {
   "cell_type": "code",
   "execution_count": 22,
   "metadata": {},
   "outputs": [],
   "source": [
    "\n",
    "# Materials\n",
    "class piezo_crystal:\n",
    "    def __init__(self,name, E, E_c, nu, rho, d31, d33, h, l, w):\n",
    "        \"\"\"\n",
    "        Initialize a piezoelectric crystal material.\n",
    "        :param name: Name of the material\n",
    "        :param abbrev: Abbreviation of the material name\n",
    "        :param E: Young's modulus \n",
    "        :param s: elastic Compliance\n",
    "        :param E_c: Coercive Field \n",
    "        :param nu: Poisson's ratio\n",
    "        :param rho: Density\n",
    "        :param d31: Piezoelectric coefficient d31\n",
    "        :param d33: Piezoelectric coefficient d33\n",
    "        :param h: Height\n",
    "        :param l: Length\n",
    "        :param w: Width\n",
    "        \"\"\"\n",
    "        self.name = name\n",
    "        self.E = convert_to(E, [u.pascal])\n",
    "        self.s = 1/self.E\n",
    "        self.E_c = convert_to(E_c, [u.volt / u.meter])\n",
    "        self.nu = nu\n",
    "        self.rho = rho\n",
    "        self.d31 = d31\n",
    "        self.d33 = d33\n",
    "        self.h = convert_to(h, [u.meter])\n",
    "        self.l = convert_to(l, [u.meter])\n",
    "        self.w = convert_to(w, [u.meter])\n",
    "\n",
    "\n",
    "    \n",
    "class elastic_layer:\n",
    "    def __init__(self, name, E, nu, rho, h, l, w):\n",
    "        \"\"\"\n",
    "        Initialize an elastic layer material.\n",
    "        :param name: Name of the material\n",
    "        :param abbrev: Abbreviation of the material name\n",
    "        :param E: Young's modulus\n",
    "        :param s: elastic Compliance\n",
    "        :param nu: Poisson's ratio\n",
    "        :param rho: Density\n",
    "        :param h: Height\n",
    "        :param l: Length\n",
    "        :param w: Width\n",
    "        \"\"\"\n",
    "        self.name = name\n",
    "        self.E = E\n",
    "        self.s = 1/self.E\n",
    "        self.nu = nu\n",
    "        self.rho = rho\n",
    "        self.h = h\n",
    "        self.l = l\n",
    "        self.w = w\n"
   ]
  },
  {
   "cell_type": "code",
   "execution_count": 23,
   "metadata": {},
   "outputs": [],
   "source": [
    "# Create objects for PZT_5A and steel\n",
    "p = piezo_crystal(\n",
    "    name='PZT_5A',\n",
    "    E=63 * (giga * u.pascal),\n",
    "    E_c= 12 * ((kilo * u.volt) / (centi * u.meter)),\n",
    "    nu=0.31,\n",
    "    rho=7750 * (u.kg / (u.meter**3)),\n",
    "    d31=-175 * ((pico * u.meter )/ u.volt),\n",
    "    d33=400 * (u.picometer / u.volt),\n",
    "    h=10 *(micro* u.meter),\n",
    "    l=40 * (micro* u.meter),\n",
    "    w=100 *(micro* u.meter),\n",
    ")\n",
    "\n",
    "s = elastic_layer(\n",
    "    name='Steel',\n",
    "    E=193* (giga* u.pascal),\n",
    "    nu=0.3,\n",
    "    rho=7872 * (u.kg / (u.meter**3)),\n",
    "    h=10 *(micro* u.meter),\n",
    "    l=40 * (micro* u.meter),\n",
    "    w=100 *(micro* u.meter),\n",
    ")"
   ]
  },
  {
   "cell_type": "code",
   "execution_count": 24,
   "metadata": {},
   "outputs": [
    {
     "data": {
      "text/latex": [
       "$\\displaystyle A = \\frac{193}{63}$"
      ],
      "text/plain": [
       "Eq(A, 193/63)"
      ]
     },
     "metadata": {},
     "output_type": "display_data"
    },
    {
     "data": {
      "text/latex": [
       "$\\displaystyle B = 1$"
      ],
      "text/plain": [
       "Eq(B, 1)"
      ]
     },
     "metadata": {},
     "output_type": "display_data"
    },
    {
     "data": {
      "text/latex": [
       "$\\displaystyle C = \\frac{3936}{3875}$"
      ],
      "text/plain": [
       "Eq(C, 3936/3875)"
      ]
     },
     "metadata": {},
     "output_type": "display_data"
    }
   ],
   "source": []
  },
  {
   "cell_type": "code",
   "execution_count": 25,
   "metadata": {},
   "outputs": [
    {
     "data": {
      "text/latex": [
       "$\\displaystyle 12 \\text{V}$"
      ],
      "text/plain": [
       "12*volt"
      ]
     },
     "execution_count": 25,
     "metadata": {},
     "output_type": "execute_result"
    }
   ],
   "source": [
    "\n",
    "#E_c = 12000 * u.volt / u.centimeter\n",
    "#E_c = convert_to(E_c, [u.volt / u.micrometer])\n",
    "#thickness = 20*u.micrometer\n",
    "V_max = p.E_c * p.h\n",
    "V_max"
   ]
  },
  {
   "cell_type": "markdown",
   "metadata": {},
   "source": [
    "### Base piezoelectric Actuation equations "
   ]
  },
  {
   "cell_type": "code",
   "execution_count": null,
   "metadata": {},
   "outputs": [],
   "source": []
  },
  {
   "cell_type": "code",
   "execution_count": 26,
   "metadata": {},
   "outputs": [
    {
     "data": {
      "text/markdown": [
       "Axial Mode"
      ],
      "text/plain": [
       "<IPython.core.display.Markdown object>"
      ]
     },
     "metadata": {},
     "output_type": "display_data"
    },
    {
     "data": {
      "text/latex": [
       "$\\displaystyle \\delta_{33} = V d_{33}$"
      ],
      "text/plain": [
       "<IPython.core.display.Math object>"
      ]
     },
     "metadata": {},
     "output_type": "display_data"
    },
    {
     "data": {
      "text/latex": [
       "$\\displaystyle F_{b} = \\frac{E_{33} V d_{33} l w}{h}$"
      ],
      "text/plain": [
       "<IPython.core.display.Math object>"
      ]
     },
     "metadata": {},
     "output_type": "display_data"
    },
    {
     "data": {
      "text/latex": [
       "$\\displaystyle K_{m} = \\frac{E_{33} l w}{h}$"
      ],
      "text/plain": [
       "<IPython.core.display.Math object>"
      ]
     },
     "metadata": {},
     "output_type": "display_data"
    },
    {
     "data": {
      "text/latex": [
       "$\\displaystyle f_{r} = \\frac{N_{3}}{h}$"
      ],
      "text/plain": [
       "<IPython.core.display.Math object>"
      ]
     },
     "metadata": {},
     "output_type": "display_data"
    },
    {
     "data": {
      "text/markdown": [
       "Transversal Mode"
      ],
      "text/plain": [
       "<IPython.core.display.Markdown object>"
      ]
     },
     "metadata": {},
     "output_type": "display_data"
    },
    {
     "data": {
      "text/latex": [
       "$\\displaystyle \\delta_{31} = - \\frac{V d_{31} w}{h}$"
      ],
      "text/plain": [
       "<IPython.core.display.Math object>"
      ]
     },
     "metadata": {},
     "output_type": "display_data"
    },
    {
     "data": {
      "text/latex": [
       "$\\displaystyle F_{b} = - E_{11} V d_{31} l$"
      ],
      "text/plain": [
       "<IPython.core.display.Math object>"
      ]
     },
     "metadata": {},
     "output_type": "display_data"
    },
    {
     "data": {
      "text/latex": [
       "$\\displaystyle K_{m} = \\frac{E_{11} h l}{w}$"
      ],
      "text/plain": [
       "<IPython.core.display.Math object>"
      ]
     },
     "metadata": {},
     "output_type": "display_data"
    },
    {
     "data": {
      "text/latex": [
       "$\\displaystyle f_{r} = \\frac{N_{1}}{w}$"
      ],
      "text/plain": [
       "<IPython.core.display.Math object>"
      ]
     },
     "metadata": {},
     "output_type": "display_data"
    }
   ],
   "source": [
    "\n",
    "# Define symbols\n",
    "d_33, V, d_31, l, w, h, E_33, E_11, e, K_m, f_r, N_3, N_1, delta_33, F_b, delta_31 = symbols('d_{33} V d_{31} l w h E_{33} E_{11} e K_m f_r N_3 N_1 delta_33 F_b delta_31')\n",
    "\n",
    "# Define equations\n",
    "ax_displacement = Eq(delta_33, d_33 * V)\n",
    "ax_Fb = Eq(F_b, (l * w / h) * E_33 * d_33 * V)\n",
    "ax_coupling = Eq(K_m, (l * w / h) * E_33)\n",
    "ax_resonance = Eq(f_r, N_3 / h)\n",
    "\n",
    "\n",
    "tran_displacement = Eq(delta_31, - (w / h) * d_31 * V)\n",
    "tran_Fb = Eq(F_b, - l * E_11 * d_31 * V) # Blocking force. Maximum Force the Actuator can exert when its displacement is blocked. Aka the Force that can overcome fluid drag and friction\n",
    "tran_coupling = Eq(K_m, (h * l / w) * E_11) # Electromechanical coupling factor. Higher is better. Max value is 1\n",
    "tran_resonance = Eq(f_r, N_1 / w)\n",
    "\n",
    "# Display equations\n",
    "display(Markdown('Axial Mode'))\n",
    "for eq in [ax_displacement, ax_Fb, ax_coupling, ax_resonance]:\n",
    "    display(Math(latex(eq)))\n",
    "display(Markdown('Transversal Mode'))\n",
    "for eq in [tran_displacement, tran_Fb, tran_coupling, tran_resonance]:\n",
    "    display(Math(latex(eq)))"
   ]
  },
  {
   "cell_type": "code",
   "execution_count": null,
   "metadata": {},
   "outputs": [],
   "source": []
  },
  {
   "cell_type": "markdown",
   "metadata": {},
   "source": [
    "### Szenario of Rectangular unimporph piezo actuator fixed to an elastic Layer (e.g Steel)\n",
    "Metin Sitti Page 102\n",
    "base Source [208]"
   ]
  },
  {
   "cell_type": "code",
   "execution_count": 33,
   "metadata": {},
   "outputs": [
    {
     "data": {
      "text/latex": [
       "$\\displaystyle A = \\frac{193}{63}$"
      ],
      "text/plain": [
       "Eq(A, 193/63)"
      ]
     },
     "metadata": {},
     "output_type": "display_data"
    },
    {
     "data": {
      "text/latex": [
       "$\\displaystyle B = 1$"
      ],
      "text/plain": [
       "Eq(B, 1)"
      ]
     },
     "metadata": {},
     "output_type": "display_data"
    },
    {
     "data": {
      "text/latex": [
       "$\\displaystyle C = \\frac{3936}{3875}$"
      ],
      "text/plain": [
       "Eq(C, 3936/3875)"
      ]
     },
     "metadata": {},
     "output_type": "display_data"
    }
   ],
   "source": [
    "\n",
    "\n",
    "\n",
    "E_steel, E_pzt = symbols('E_steel E_pzt')\n",
    "E_steel = s.E # Young's Modulus of Steel\n",
    "E_pzt = p.E # Young's Modulus of PZT\n",
    "\n",
    "h_steel, h_pzt = symbols('h_steel h_pzt') \n",
    "h_steel = s.h # Height of Steel\n",
    "h_pzt = p.h # Height of PZT\n",
    "\n",
    "A, B, C, D= symbols('A B C D')\n",
    "\n",
    "E_ratio = Eq(A, E_steel/E_pzt) #Ratio of Young's Modulus\n",
    "h_ratio = Eq(B, h_steel/h_pzt) #Ratio of height\n",
    "density_ratio = Eq(C, s.rho/p.rho) #Ratio of density\n",
    "\n",
    "display(E_ratio, h_ratio, density_ratio)\n"
   ]
  },
  {
   "cell_type": "markdown",
   "metadata": {},
   "source": []
  },
  {
   "cell_type": "markdown",
   "metadata": {},
   "source": [
    "## Circuit Estimation"
   ]
  },
  {
   "cell_type": "markdown",
   "metadata": {},
   "source": [
    "## Requirements on Driver\n",
    "\n",
    "- **Voltage Level (Displacement):** As high as possible for maximum displacement. At this scale, it is limited by the breakdown voltage of the piezo actuator rather than MOSFETs.\n",
    "- **Current Level (Speed):** Low enough resistance, i.e., high enough current for the respective oscillation frequency of the actuator. The limiting factors could be:\n",
    "    - Heat dissipation of MOSFETs inside the driver circuit\n",
    "    - Heat dissipation of the piezo crystal\n",
    "    - Frequency where actuation is efficient due to gait, friction, drag, and mechanical quality factor "
   ]
  }
 ],
 "metadata": {
  "kernelspec": {
   "display_name": "vtt10",
   "language": "python",
   "name": "python3"
  },
  "language_info": {
   "codemirror_mode": {
    "name": "ipython",
    "version": 3
   },
   "file_extension": ".py",
   "mimetype": "text/x-python",
   "name": "python",
   "nbconvert_exporter": "python",
   "pygments_lexer": "ipython3",
   "version": "3.10.12"
  }
 },
 "nbformat": 4,
 "nbformat_minor": 2
}
