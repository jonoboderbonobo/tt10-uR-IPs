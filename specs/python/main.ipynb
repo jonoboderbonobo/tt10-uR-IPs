{
 "cells": [
  {
   "cell_type": "markdown",
   "metadata": {},
   "source": [
    "# Robot\n",
    "\n",
    "## Chip Specification\n",
    "\n",
    "In This python file the Design Specifications for Chip [tt10-uR-IPs](https://github.com/jonoboderbonobo/tt10-uR-IPs) is investigated. Not much thought has been put into those Specifications, but designing a Chip without a goal in mind seems boring. Therefore some rough estimates will be made. So let's make a Robot!"
   ]
  },
  {
   "cell_type": "markdown",
   "metadata": {},
   "source": [
    "\n",
    "\n",
    "## Design Goals\n",
    "\n",
    "\n",
    "\n",
    "\n",
    "| Design Goal                    | Value                   |\n",
    "|--------------------------------|-------------------------|\n",
    "| Robot size                     | 100 µm * 100 µm         |\n",
    "| Chip size                      | 50 µm * 100 µm          |\n",
    "| Resulting Space for Actuators  | 2 times (25 µm * 100 µm)|\n",
    "| Robot speed                    | > 1 body length /second |\n",
    "| Actuation Method               | Piezoelectric           |\n",
    "| Locomotion Method              | Crawling                |\n",
    "| Robot shape                    | Rectangular             |\n",
    "\n",
    "<br>\n",
    "\n",
    "| **Soft Requirements**    |Value                   |\n",
    "|--------------------------|------------------------|\n",
    "| Robot Coating            | PDMS                   |\n",
    "| Robot Actuators          | PZT_5H                 |\n",
    "| Environment Fluid        | Air                    |\n",
    "| Environment Solid (Ground)| variable (SiO2)       |\n",
    "\n",
    "\n",
    "\n"
   ]
  },
  {
   "cell_type": "code",
   "execution_count": 75,
   "metadata": {},
   "outputs": [],
   "source": [
    "import sympy\n",
    "from sympy import symbols, Eq, sqrt, pi, latex, solveset\n",
    "from IPython.display import display, Markdown\n",
    "import sympy.physics.units as u\n",
    "from sympy.physics.units import milli, micro, centi, giga, mega, kilo, nano, pico\n",
    "from sympy.physics.units import convert_to\n",
    "\n",
    "# Enable pretty-printing in Jupyter \n",
    "sympy.init_printing()\n",
    "\n",
    "\n",
    "from sympy import Rational, pi\n",
    "percent = percents = Rational(1, 100)\n",
    "permille = permille = Rational(1, 1000)\n",
    "\n",
    "ten = Rational(10)\n",
    "\n",
    "yotta = ten**24\n",
    "zetta = ten**21\n",
    "exa = ten**18\n",
    "peta = ten**15\n",
    "tera = ten**12\n",
    "giga = ten**9\n",
    "mega = ten**6\n",
    "kilo = ten**3\n",
    "deca = ten**1\n",
    "deci = ten**-1\n",
    "centi = ten**-2\n",
    "milli = ten**-3\n",
    "micro = ten**-6\n",
    "nano = ten**-9\n",
    "pico = ten**-12\n",
    "femto = ten**-15\n",
    "atto = ten**-18\n",
    "zepto = ten**-21\n",
    "yocto = ten**-24\n",
    "\n",
    "rad = radian = radians = 1\n",
    "deg = degree = degrees = pi/180\n",
    "sr = steradian = steradians = 1\n",
    "mil = angular_mil = angular_mils = 2*pi/6400\n"
   ]
  },
  {
   "cell_type": "markdown",
   "metadata": {},
   "source": [
    "### Materials"
   ]
  },
  {
   "cell_type": "code",
   "execution_count": 76,
   "metadata": {},
   "outputs": [],
   "source": [
    "\n",
    "# Materials\n",
    "class piezo_crystal:\n",
    "    def __init__(self,name, E, E_c, nu, rho, d31, d33, h, l, w):\n",
    "        \"\"\"\n",
    "        Initialize a piezoelectric crystal material.\n",
    "        :param name: Name of the material\n",
    "        :param abbrev: Abbreviation of the material name\n",
    "        :param E: Young's modulus \n",
    "        :param s: elastic Compliance\n",
    "        :param E_c: Coercive Field \n",
    "        :param nu: Poisson's ratio\n",
    "        :param rho: Density\n",
    "        :param d31: Piezoelectric coefficient d31\n",
    "        :param d33: Piezoelectric coefficient d33\n",
    "        :param h: Height\n",
    "        :param l: Length\n",
    "        :param w: Width\n",
    "        \"\"\"\n",
    "        self.name = name\n",
    "        self.E = convert_to(E, [u.pascal])\n",
    "        self.s = 1/self.E\n",
    "        self.E_c = convert_to(E_c, [u.volt / u.meter])\n",
    "        self.nu = nu\n",
    "        self.rho = rho\n",
    "        self.d31 = d31\n",
    "        self.d33 = d33\n",
    "        self.h = convert_to(h, [u.meter])\n",
    "        self.l = convert_to(l, [u.meter])\n",
    "        self.w = convert_to(w, [u.meter])\n",
    "\n",
    "\n",
    "    \n",
    "class elastic_layer:\n",
    "    def __init__(self, name, E, nu, rho, h, l, w):\n",
    "        \"\"\"\n",
    "        Initialize an elastic layer material.\n",
    "        :param name: Name of the material\n",
    "        :param abbrev: Abbreviation of the material name\n",
    "        :param E: Young's modulus\n",
    "        :param s: elastic Compliance\n",
    "        :param nu: Poisson's ratio\n",
    "        :param rho: Density\n",
    "        :param h: Height\n",
    "        :param l: Length\n",
    "        :param w: Width\n",
    "        \"\"\"\n",
    "        self.name = name\n",
    "        self.E = E\n",
    "        self.s = 1/self.E\n",
    "        self.nu = nu\n",
    "        self.rho = rho\n",
    "        self.h = h\n",
    "        self.l = l\n",
    "        self.w = w\n"
   ]
  },
  {
   "cell_type": "code",
   "execution_count": 81,
   "metadata": {},
   "outputs": [],
   "source": [
    "# Create objects for PZT_5A and steel\n",
    "p = piezo_crystal(\n",
    "    name='PZT_5A',\n",
    "    E=63 * (giga * u.pascal),\n",
    "    E_c= 12 * ((kilo * u.volt) / (centi * u.meter)),\n",
    "    nu=0.31,\n",
    "    rho=7750 * (u.kg / (u.meter**3)),\n",
    "    d31=-175 * ((pico * u.meter )/ u.volt),\n",
    "    d33=400 * (u.picometer / u.volt),\n",
    "    h=10 *(micro* u.meter),\n",
    "    l=40 * (micro* u.meter),\n",
    "    w=100 *(micro* u.meter),\n",
    ")\n",
    "\n",
    "s = elastic_layer(\n",
    "    name='Steel',\n",
    "    E=193* (giga* u.pascal),\n",
    "    nu=0.3,\n",
    "    rho=7872 * (u.kg / (u.meter**3)),\n",
    "    h=10 *(micro* u.meter),\n",
    "    l=40 * (micro* u.meter),\n",
    "    w=100 *(micro* u.meter),\n",
    ")"
   ]
  },
  {
   "cell_type": "code",
   "execution_count": 77,
   "metadata": {},
   "outputs": [
    {
     "data": {
      "text/latex": [
       "$\\displaystyle A = \\frac{193}{63}$"
      ],
      "text/plain": [
       "    193\n",
       "A = ───\n",
       "    63 "
      ]
     },
     "metadata": {},
     "output_type": "display_data"
    },
    {
     "data": {
      "text/latex": [
       "$\\displaystyle B = 1$"
      ],
      "text/plain": [
       "B = 1"
      ]
     },
     "metadata": {},
     "output_type": "display_data"
    },
    {
     "data": {
      "text/latex": [
       "$\\displaystyle C = \\frac{3936}{3875}$"
      ],
      "text/plain": [
       "    3936\n",
       "C = ────\n",
       "    3875"
      ]
     },
     "metadata": {},
     "output_type": "display_data"
    }
   ],
   "source": [
    "A, B, C = symbols('A B C')\n",
    "#s.E = symbols('E_s')\n",
    "E_ratio = Eq(A, s.E/p.E) #Ratio of Young's Modulus\n",
    "h_ratio = Eq(B, s.h/p.h) #Ratio of height\n",
    "density_ratio = Eq(C, s.rho/p.rho) #Ratio of density\n",
    "display(E_ratio, h_ratio, density_ratio)"
   ]
  },
  {
   "cell_type": "code",
   "execution_count": 79,
   "metadata": {},
   "outputs": [
    {
     "data": {
      "text/latex": [
       "$\\displaystyle 12 \\text{V}$"
      ],
      "text/plain": [
       "12⋅volt"
      ]
     },
     "execution_count": 79,
     "metadata": {},
     "output_type": "execute_result"
    }
   ],
   "source": [
    "\n",
    "#E_c = 12000 * u.volt / u.centimeter\n",
    "#E_c = convert_to(E_c, [u.volt / u.micrometer])\n",
    "#thickness = 20*u.micrometer\n",
    "V_max = p.E_c * p.h\n",
    "V_max"
   ]
  }
 ],
 "metadata": {
  "kernelspec": {
   "display_name": "venv_anac_tt10_specs",
   "language": "python",
   "name": "python3"
  },
  "language_info": {
   "codemirror_mode": {
    "name": "ipython",
    "version": 3
   },
   "file_extension": ".py",
   "mimetype": "text/x-python",
   "name": "python",
   "nbconvert_exporter": "python",
   "pygments_lexer": "ipython3",
   "version": "3.12.7"
  }
 },
 "nbformat": 4,
 "nbformat_minor": 2
}
